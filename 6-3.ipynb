{
 "metadata": {
  "language_info": {
   "codemirror_mode": {
    "name": "ipython",
    "version": 3
   },
   "file_extension": ".py",
   "mimetype": "text/x-python",
   "name": "python",
   "nbconvert_exporter": "python",
   "pygments_lexer": "ipython3",
   "version": "3.8.2-final"
  },
  "orig_nbformat": 2,
  "kernelspec": {
   "name": "python_defaultSpec_1598149812160",
   "display_name": "Python 3.8.2 32-bit"
  }
 },
 "nbformat": 4,
 "nbformat_minor": 2,
 "cells": [
  {
   "cell_type": "code",
   "execution_count": 1,
   "metadata": {},
   "outputs": [],
   "source": [
    "class Nigiri:\n",
    "    category = \"にぎり\"\n",
    "    top = \"ねた\"\n",
    "    base = \"しゃり\"\n",
    "\n",
    "    def show_attribute(self):\n",
    "        print(\"top: {}, base: {}, category: {}\".format(self.top,self.base,self.category))"
   ]
  },
  {
   "cell_type": "code",
   "execution_count": 3,
   "metadata": {
    "tags": []
   },
   "outputs": [
    {
     "output_type": "stream",
     "name": "stdout",
     "text": "top: ねた, base: しゃり, category: にぎり\n"
    }
   ],
   "source": [
    "n1 = Nigiri()\n",
    "n1.show_attribute()"
   ]
  },
  {
   "cell_type": "code",
   "execution_count": 4,
   "metadata": {},
   "outputs": [],
   "source": [
    "class Maguro(Nigiri):\n",
    "    pass"
   ]
  },
  {
   "cell_type": "code",
   "execution_count": 6,
   "metadata": {
    "tags": []
   },
   "outputs": [
    {
     "output_type": "stream",
     "name": "stdout",
     "text": "top: ねた, base: しゃり, category: にぎり\n"
    }
   ],
   "source": [
    "m1 = Maguro()\n",
    "m1.show_attribute()"
   ]
  },
  {
   "cell_type": "code",
   "execution_count": 8,
   "metadata": {
    "tags": []
   },
   "outputs": [
    {
     "output_type": "stream",
     "name": "stdout",
     "text": "top: まぐろ, base: しゃり, category: にぎり\n"
    }
   ],
   "source": [
    "class Maguro(Nigiri):\n",
    "    top = \"まぐろ\"\n",
    "\n",
    "m3 = Maguro()\n",
    "m3.show_attribute()"
   ]
  },
  {
   "cell_type": "code",
   "execution_count": 10,
   "metadata": {
    "tags": []
   },
   "outputs": [
    {
     "output_type": "stream",
     "name": "stdout",
     "text": "top: まぐろ, base: しゃり, category: にぎり\n"
    }
   ],
   "source": [
    "class Maguro(Nigiri):\n",
    "    top = \"まぐろ\"\n",
    "    price = \"100\"\n",
    "\n",
    "m4 = Maguro()\n",
    "m4.show_attribute()"
   ]
  },
  {
   "cell_type": "code",
   "execution_count": 12,
   "metadata": {
    "tags": []
   },
   "outputs": [
    {
     "output_type": "stream",
     "name": "stdout",
     "text": "base: しゃり, top: まぐろ\nprice: 100円\n"
    }
   ],
   "source": [
    "class Maguro(Nigiri):\n",
    "    top = \"まぐろ\"\n",
    "    price = \"100\"\n",
    "\n",
    "    def show_attribute(self):\n",
    "        print(\"base: {}, top: {}\".format(self.base, self.top))\n",
    "        print(\"price: {}円\".format(self.price))\n",
    "\n",
    "m4 = Maguro()\n",
    "m4.show_attribute()\n"
   ]
  },
  {
   "cell_type": "code",
   "execution_count": 14,
   "metadata": {
    "tags": []
   },
   "outputs": [
    {
     "output_type": "stream",
     "name": "stdout",
     "text": "top: まぐろ, base: しゃり, category: にぎり\nprice: 100円\n"
    }
   ],
   "source": [
    "class Maguro(Nigiri):\n",
    "    top = \"まぐろ\"\n",
    "    price = \"100\"\n",
    "\n",
    "    def show_attribute(self):\n",
    "        super().show_attribute()\n",
    "        print(\"price: {}円\".format(self.price))\n",
    "\n",
    "m5 = Maguro()\n",
    "m5.show_attribute()"
   ]
  },
  {
   "cell_type": "code",
   "execution_count": 16,
   "metadata": {
    "tags": []
   },
   "outputs": [
    {
     "output_type": "stream",
     "name": "stdout",
     "text": "top: まぐろ, base: しゃり, category: にぎり\n1皿(2かん)の値段: 100100円\n"
    }
   ],
   "source": [
    "class Maguro(Nigiri):\n",
    "    top = \"まぐろ\"\n",
    "    price = \"100\"\n",
    "\n",
    "    def show_attribute(self):\n",
    "        super().show_attribute()\n",
    "\n",
    "    def show_one_dish_price(self, num_nigiri=2):\n",
    "        result = self.price * num_nigiri\n",
    "        print(\"1皿({}かん)の値段: {}円\".format(num_nigiri, result))\n",
    "\n",
    "m5 = Maguro()\n",
    "m5.show_attribute()\n",
    "m5.show_one_dish_price() "
   ]
  },
  {
   "cell_type": "code",
   "execution_count": 17,
   "metadata": {},
   "outputs": [],
   "source": [
    "class NigiriNew(Nigiri):\n",
    "\n",
    "    def __init__(self, wasabi=\"わさび抜き\"):\n",
    "        self.wasabi = wasabi\n",
    "\n",
    "    def show_attribute(self):\n",
    "        super().show_attribute()\n",
    "        print(\"wasabi: {}\".format(self.wasabi))"
   ]
  },
  {
   "cell_type": "code",
   "execution_count": 19,
   "metadata": {
    "tags": []
   },
   "outputs": [
    {
     "output_type": "stream",
     "name": "stdout",
     "text": "top: まぐろ, base: しゃり, category: にぎり\nwasabi: わさび入り\nprice: 100円\n"
    }
   ],
   "source": [
    "class Maguro(NigiriNew):\n",
    "    top = \"まぐろ\"\n",
    "    price = \"100\"\n",
    "\n",
    "    def show_attribute(self):\n",
    "        super().show_attribute()\n",
    "        print(\"price: {}円\".format(self.price))\n",
    "\n",
    "m6 = Maguro(\"わさび入り\")\n",
    "m6.show_attribute()\n"
   ]
  },
  {
   "cell_type": "code",
   "execution_count": 25,
   "metadata": {
    "tags": []
   },
   "outputs": [
    {
     "output_type": "stream",
     "name": "stdout",
     "text": "Musician リズム・メロディー・ハーモニー\nコードを書く\n楽器を演奏する\n"
    }
   ],
   "source": [
    "class Programmer:\n",
    "    def __init__(self):\n",
    "        self,skill = \"プログラミング\"\n",
    "        print(\"Programmer\", self.skill)\n",
    "\n",
    "    def make_code(self):\n",
    "        print(\"コードを書く\")\n",
    "\n",
    "class Musician:\n",
    "    def __init__(self):\n",
    "        self.skill = \"リズム・メロディー・ハーモニー\"\n",
    "        print(\"Musician\", self.skill)\n",
    "\n",
    "    def play_instrument(self):\n",
    "        print(\"楽器を演奏する\")\n",
    "\n",
    "class MusicianProgremmer(Musician, Programmer):\n",
    "    pass\n",
    "\n",
    "mp1 = MusicianProgremmer()\n",
    "mp1.make_code()\n",
    "mp1.play_instrument()"
   ]
  },
  {
   "cell_type": "code",
   "execution_count": 26,
   "metadata": {},
   "outputs": [
    {
     "output_type": "error",
     "ename": "ValueError",
     "evalue": "too many values to unpack (expected 2)",
     "traceback": [
      "\u001b[1;31m---------------------------------------------------------------------------\u001b[0m",
      "\u001b[1;31mValueError\u001b[0m                                Traceback (most recent call last)",
      "\u001b[1;32m<ipython-input-26-4758d54f3d8b>\u001b[0m in \u001b[0;36m<module>\u001b[1;34m\u001b[0m\n\u001b[0;32m      2\u001b[0m     \u001b[1;32mpass\u001b[0m\u001b[1;33m\u001b[0m\u001b[1;33m\u001b[0m\u001b[0m\n\u001b[0;32m      3\u001b[0m \u001b[1;33m\u001b[0m\u001b[0m\n\u001b[1;32m----> 4\u001b[1;33m \u001b[0mpm1\u001b[0m \u001b[1;33m=\u001b[0m \u001b[0mProgrammerMusician\u001b[0m\u001b[1;33m(\u001b[0m\u001b[1;33m)\u001b[0m\u001b[1;33m\u001b[0m\u001b[1;33m\u001b[0m\u001b[0m\n\u001b[0m\u001b[0;32m      5\u001b[0m \u001b[0mpm1\u001b[0m\u001b[1;33m.\u001b[0m\u001b[0mmake_code\u001b[0m\u001b[1;33m(\u001b[0m\u001b[1;33m)\u001b[0m\u001b[1;33m\u001b[0m\u001b[1;33m\u001b[0m\u001b[0m\n\u001b[0;32m      6\u001b[0m \u001b[0mpm1\u001b[0m\u001b[1;33m.\u001b[0m\u001b[0mplay_instrument\u001b[0m\u001b[1;33m(\u001b[0m\u001b[1;33m)\u001b[0m\u001b[1;33m\u001b[0m\u001b[1;33m\u001b[0m\u001b[0m\n",
      "\u001b[1;32m<ipython-input-25-1a564fdbb785>\u001b[0m in \u001b[0;36m__init__\u001b[1;34m(self)\u001b[0m\n\u001b[0;32m      1\u001b[0m \u001b[1;32mclass\u001b[0m \u001b[0mProgrammer\u001b[0m\u001b[1;33m:\u001b[0m\u001b[1;33m\u001b[0m\u001b[1;33m\u001b[0m\u001b[0m\n\u001b[0;32m      2\u001b[0m     \u001b[1;32mdef\u001b[0m \u001b[0m__init__\u001b[0m\u001b[1;33m(\u001b[0m\u001b[0mself\u001b[0m\u001b[1;33m)\u001b[0m\u001b[1;33m:\u001b[0m\u001b[1;33m\u001b[0m\u001b[1;33m\u001b[0m\u001b[0m\n\u001b[1;32m----> 3\u001b[1;33m         \u001b[0mself\u001b[0m\u001b[1;33m,\u001b[0m\u001b[0mskill\u001b[0m \u001b[1;33m=\u001b[0m \u001b[1;34m\"プログラミング\"\u001b[0m\u001b[1;33m\u001b[0m\u001b[1;33m\u001b[0m\u001b[0m\n\u001b[0m\u001b[0;32m      4\u001b[0m         \u001b[0mprint\u001b[0m\u001b[1;33m(\u001b[0m\u001b[1;34m\"Programmer\"\u001b[0m\u001b[1;33m,\u001b[0m \u001b[0mself\u001b[0m\u001b[1;33m.\u001b[0m\u001b[0mskill\u001b[0m\u001b[1;33m)\u001b[0m\u001b[1;33m\u001b[0m\u001b[1;33m\u001b[0m\u001b[0m\n\u001b[0;32m      5\u001b[0m \u001b[1;33m\u001b[0m\u001b[0m\n",
      "\u001b[1;31mValueError\u001b[0m: too many values to unpack (expected 2)"
     ]
    }
   ],
   "source": [
    "class ProgrammerMusician(Programmer, Musician):\n",
    "    pass\n",
    "\n",
    "pm1 = ProgrammerMusician()\n",
    "pm1.make_code()\n",
    "pm1.play_instrument()"
   ]
  },
  {
   "cell_type": "code",
   "execution_count": 33,
   "metadata": {},
   "outputs": [],
   "source": [
    "class Katsuo(Nigiri):\n",
    "    top = \"かつお\"\n",
    "    topping =\"生姜とねぎ\"\n",
    "    price = 100\n",
    "\n",
    "    def show_attribute(self):\n",
    "        super().show_attribute()\n",
    "        print(\"topping: {}\".format(self.topping)) "
   ]
  },
  {
   "cell_type": "code",
   "execution_count": 34,
   "metadata": {
    "tags": []
   },
   "outputs": [
    {
     "output_type": "stream",
     "name": "stdout",
     "text": "top: かつお, base: しゃり, category: にぎり\ntopping: 生姜とねぎ\n"
    }
   ],
   "source": [
    "k1 = Katsuo()\n",
    "k1.show_attribute()"
   ]
  },
  {
   "cell_type": "code",
   "execution_count": 36,
   "metadata": {
    "tags": []
   },
   "outputs": [
    {
     "output_type": "stream",
     "name": "stdout",
     "text": "name: rectangle, width: 4, angle: 3\nperimeter: 14, area: 12\n"
    }
   ],
   "source": [
    "class Rectangle:\n",
    "\n",
    "    angle = 90\n",
    "\n",
    "    def __init__(self, width, height):\n",
    "        self.name = 'rectangle'\n",
    "        self.width = width\n",
    "        self.height = height\n",
    "        self.perimeter = self.calc_perimeter()\n",
    "        self.area = self.calc_area()\n",
    "\n",
    "    def calc_perimeter(self):\n",
    "        w = self.width\n",
    "        h = self.height\n",
    "        return (w + h) * 2\n",
    "\n",
    "    def calc_area(self):\n",
    "        w = self.width\n",
    "        h = self.height\n",
    "        return w * h\n",
    "\n",
    "    def show_attributes(self):\n",
    "        ang = self.angle\n",
    "        n = self.name\n",
    "        w = self.width\n",
    "        h = self.height\n",
    "        p = self.perimeter\n",
    "        a = self.area\n",
    "        print(\"name: {}, width: {}, angle: {}\".format(n,w,h,ang))\n",
    "        print(\"perimeter: {}, area: {}\".format(p, a))\n",
    "\n",
    "r1 = Rectangle(4, 3)\n",
    "r1.show_attributes()"
   ]
  },
  {
   "cell_type": "code",
   "execution_count": 37,
   "metadata": {},
   "outputs": [],
   "source": [
    "class Squrea(Rectangle):\n",
    "\n",
    "    def __init__(self, width):\n",
    "        super(). __init__(width,width)\n",
    "        self.name = 'suquare'"
   ]
  },
  {
   "cell_type": "code",
   "execution_count": 39,
   "metadata": {
    "tags": []
   },
   "outputs": [
    {
     "output_type": "stream",
     "name": "stdout",
     "text": "name: suquare, width: 4, angle: 4\nperimeter: 16, area: 16\n"
    }
   ],
   "source": [
    "s1 = Squrea(4)\n",
    "s1.show_attributes()"
   ]
  },
  {
   "cell_type": "code",
   "execution_count": 43,
   "metadata": {
    "tags": []
   },
   "outputs": [
    {
     "output_type": "stream",
     "name": "stdout",
     "text": "name: square, width: 4, angle: 4\nperimeter: 16, area: 16\n"
    }
   ],
   "source": [
    "class Squrea(Rectangle):\n",
    "\n",
    "    def __init__(self, width):\n",
    "        self.name = 'square'\n",
    "        self.width = width\n",
    "        self.height = width\n",
    "        self.perimeter = self.calc_perimeter()\n",
    "        self.area = self.calc_area()\n",
    "\n",
    "s2 = Squrea(4)\n",
    "s2.show_attributes()"
   ]
  },
  {
   "cell_type": "code",
   "execution_count": null,
   "metadata": {},
   "outputs": [],
   "source": []
  }
 ]
}